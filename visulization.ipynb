{
 "cells": [
  {
   "cell_type": "markdown",
   "id": "b4a01db3",
   "metadata": {},
   "source": [
    "# For visulization purposes I use seaborn and matplot. As question tell, its only need image that why I don't use power bi instead of that I use python."
   ]
  },
  {
   "cell_type": "markdown",
   "id": "215de528",
   "metadata": {},
   "source": []
  }
 ],
 "metadata": {
  "language_info": {
   "name": "python"
  }
 },
 "nbformat": 4,
 "nbformat_minor": 5
}
