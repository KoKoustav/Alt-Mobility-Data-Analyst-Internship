{
 "cells": [
  {
   "cell_type": "markdown",
   "id": "b4a01db3",
   "metadata": {},
   "source": [
    "# For visulization purposes I use seaborn and matplot. As question tell, its only need image that why I don't use power bi instead of that I use python."
   ]
  },
  {
   "cell_type": "code",
   "execution_count": 1,
   "id": "998e0852",
   "metadata": {},
   "outputs": [],
   "source": [
    "import pandas as pd\n",
    "import matplotlib.pyplot as plt\n",
    "import seaborn as sns"
   ]
  },
  {
   "cell_type": "code",
   "execution_count": 21,
   "id": "8281c726",
   "metadata": {},
   "outputs": [],
   "source": [
    "customer_orders = pd.read_csv(\"customer_orders.csv\", parse_dates=[\"order_date\"])\n",
    "payments = pd.read_csv(\"payments.csv\", parse_dates=[\"payment_date\"])"
   ]
  },
  {
   "cell_type": "code",
   "execution_count": 23,
   "id": "0ffd26c3",
   "metadata": {},
   "outputs": [],
   "source": [
    "# 1. Merge datasets and filter completed payments\n",
    "merged = pd.merge(customer_orders, payments, on='order_id')\n",
    "merged = merged[merged['payment_status'] == 'completed']\n",
    "\n",
    "# 2. Convert dates to datetime\n",
    "merged['order_date'] = pd.to_datetime(merged['order_date'])\n",
    "\n",
    "# 3. Create cohort columns\n",
    "# --------------------------------------------------------------\n",
    "# First purchase month for each customer (their \"cohort\")\n",
    "merged['cohort_month'] = merged.groupby('customer_id')['order_date'] \\\n",
    "                             .transform('min').dt.to_period('M')\n",
    "\n",
    "# Month of each order\n",
    "merged['order_month'] = merged['order_date'].dt.to_period('M')\n",
    "\n",
    "# Months since first purchase (0 = first month, 1 = next month, etc)\n",
    "merged['cohort_index'] = (merged['order_month'] - merged['cohort_month']) \\\n",
    "                       .apply(lambda x: x.n)\n",
    "\n",
    "# 4. Save for Power BI\n",
    "merged.to_csv('cohort_analysis_ready_data.csv', index=False)"
   ]
  },
  {
   "cell_type": "code",
   "execution_count": 24,
   "id": "62d8829a",
   "metadata": {},
   "outputs": [
    {
     "data": {
      "text/plain": [
       "order_id            0\n",
       "customer_id         0\n",
       "order_date          0\n",
       "order_amount        0\n",
       "shipping_address    0\n",
       "order_status        0\n",
       "payment_id          0\n",
       "payment_date        0\n",
       "payment_amount      0\n",
       "payment_method      0\n",
       "payment_status      0\n",
       "cohort_month        0\n",
       "order_month         0\n",
       "cohort_index        0\n",
       "dtype: int64"
      ]
     },
     "execution_count": 24,
     "metadata": {},
     "output_type": "execute_result"
    }
   ],
   "source": [
    "merged.isna().sum()"
   ]
  },
  {
   "cell_type": "code",
   "execution_count": 25,
   "id": "0af7c0a8",
   "metadata": {},
   "outputs": [],
   "source": [
    "customer_orders['order_date_month'] = customer_orders['order_date'].dt.month\n",
    "customer_orders['order_date_year'] = customer_orders['order_date'].dt.year"
   ]
  },
  {
   "cell_type": "code",
   "execution_count": 28,
   "id": "3909ccd7",
   "metadata": {},
   "outputs": [
    {
     "data": {
      "text/plain": [
       "array([ 5, 11,  3, 12,  7,  1, 10,  9,  4,  8,  6,  2])"
      ]
     },
     "execution_count": 28,
     "metadata": {},
     "output_type": "execute_result"
    }
   ],
   "source": [
    "customer_orders.order_date_month.unique()"
   ]
  },
  {
   "cell_type": "code",
   "execution_count": 30,
   "id": "c71ed15d",
   "metadata": {},
   "outputs": [],
   "source": [
    "customer_orders['order_month_name'] = customer_orders['order_date'].dt.month_name()"
   ]
  },
  {
   "cell_type": "code",
   "execution_count": 31,
   "id": "74898f21",
   "metadata": {},
   "outputs": [
    {
     "data": {
      "text/plain": [
       "array(['May', 'November', 'March', 'December', 'July', 'January',\n",
       "       'October', 'September', 'April', 'August', 'June', 'February'],\n",
       "      dtype=object)"
      ]
     },
     "execution_count": 31,
     "metadata": {},
     "output_type": "execute_result"
    }
   ],
   "source": [
    "customer_orders['order_month_name'].unique()"
   ]
  },
  {
   "cell_type": "code",
   "execution_count": 32,
   "id": "8560c17b",
   "metadata": {},
   "outputs": [],
   "source": [
    "customer_orders.to_csv('Only_for_date.csv', index=False)"
   ]
  },
  {
   "cell_type": "code",
   "execution_count": null,
   "id": "3bb2afef",
   "metadata": {},
   "outputs": [],
   "source": []
  }
 ],
 "metadata": {
  "kernelspec": {
   "display_name": "Python 3",
   "language": "python",
   "name": "python3"
  },
  "language_info": {
   "codemirror_mode": {
    "name": "ipython",
    "version": 3
   },
   "file_extension": ".py",
   "mimetype": "text/x-python",
   "name": "python",
   "nbconvert_exporter": "python",
   "pygments_lexer": "ipython3",
   "version": "3.11.9"
  }
 },
 "nbformat": 4,
 "nbformat_minor": 5
}
